{
 "cells": [
  {
   "cell_type": "code",
   "execution_count": 83,
   "metadata": {},
   "outputs": [],
   "source": [
    "import json\n",
    "import os\n",
    "import pandas as pd\n",
    "import math"
   ]
  },
  {
   "cell_type": "markdown",
   "metadata": {},
   "source": [
    "# Data loading and dictionary building"
   ]
  },
  {
   "cell_type": "code",
   "execution_count": 52,
   "metadata": {},
   "outputs": [],
   "source": [
    "# Just run this cell one time, because it can take very long\n",
    "# load covid data\n",
    "\n",
    "json_file_path = 'coronavirus-covid-19-pandemic-usa-counties.json'\n",
    "\n",
    "with open(json_file_path,'r') as f:\n",
    "    data = None\n",
    "    data = json.load(f)\n",
    "dataset = []\n",
    "for row in data:\n",
    "    dataset.append(row['fields'])\n",
    "data = None # save memory\n",
    "df = pd.DataFrame(dataset)"
   ]
  },
  {
   "cell_type": "code",
   "execution_count": 171,
   "metadata": {},
   "outputs": [],
   "source": [
    "# Load population data\n",
    "json_file_path = 'usa-2016-presidential-election-by-county.json'\n",
    "\n",
    "with open(json_file_path,'r') as f:\n",
    "    data = None\n",
    "    data = json.load(f)\n",
    "population = data"
   ]
  },
  {
   "cell_type": "code",
   "execution_count": 178,
   "metadata": {},
   "outputs": [],
   "source": [
    "# county string mapping\n",
    "# give a county string ex. 'Dane County, Wiscosin', return a list where the first element is state, an the \n",
    "# second is county ex. ['Madison','Dane']\n",
    "def county_mapping(county_column):\n",
    "    county_string = county_column\n",
    "    county_string = county_string.split(',')\n",
    "    for i in range(len(county_string)):\n",
    "        if i == 0: \n",
    "            county_string[i] = county_string[i].replace(\" County\", \"\")\n",
    "        elif i == 1:\n",
    "            county_string[i] = county_string[i][1:]\n",
    "    state_name = county_string[1]\n",
    "    county_name = county_string[0]\n",
    "    return [state_name, county_name]"
   ]
  },
  {
   "cell_type": "code",
   "execution_count": 180,
   "metadata": {},
   "outputs": [],
   "source": [
    "# create mapping dictionary\n",
    "mapping_dict = {}\n",
    "\n",
    "for row in population:\n",
    "    mapping_dict[row['fields']['county']] = county_mapping(row['fields']['county'])"
   ]
  },
  {
   "cell_type": "code",
   "execution_count": 216,
   "metadata": {},
   "outputs": [],
   "source": [
    "# create population dictionary\n",
    "population_mapping_dict = {}\n",
    "adjustment_ratio = 328/305\n",
    "for row in population:\n",
    "    population_mapping_dict[tuple(county_mapping(row['fields']['county']))]= math.floor(row['fields']['total_population']*adjustment_ratio)"
   ]
  },
  {
   "cell_type": "code",
   "execution_count": 232,
   "metadata": {},
   "outputs": [],
   "source": [
    "# total_statics from us\n",
    "usa_total_population = sum(population_mapping_dict.values())\n",
    "\n",
    "usa_total_cases_11_16 = df[df['date'] == df['date'].max()]['tot_confirmed'].sum()\n",
    "usa_total_deaths_11_16 = df[df['date'] == df['date'].max()]['tot_death'].sum()\n",
    "\n",
    "usa_total_cases_ratio_11_16 = usa_total_cases_11_16/usa_total_population\n",
    "\n",
    "usa_total_deaths_ratio_11_16 = usa_total_deaths_11_16/usa_total_population"
   ]
  },
  {
   "cell_type": "markdown",
   "metadata": {},
   "source": [
    "# Label generating function"
   ]
  },
  {
   "cell_type": "code",
   "execution_count": 229,
   "metadata": {},
   "outputs": [],
   "source": [
    "#This dataset has 300 days of corona virus data from 2020-01-22 to 2020-11-16\n",
    "#If you want to see the detail of the dataset, use df.head()\n",
    "\n",
    "#input state, county, label type, and group date\n",
    "#\n",
    "#you can either use getmapping dictionary or get mapping function to get the input for state name and county name\n",
    "#\n",
    "#label_type has 6 different value\n",
    "#1. \"normalized_cases\" 2. \"normalized_deaths\" 3.deaths_increase_rates  (per day) \n",
    "#4. cases_increase_rates(per day) 5. seriousness_label_cases (compared to whole US and is not affected by \n",
    "#group date) 6. seriousness_label_deaths (compared to whole US and is not affected by group date)\n",
    "# \n",
    "# The return will be a list of label or labels for a county\n",
    "#\n",
    "\n",
    "\n",
    "def y_label_generator(state, county, label_type, group_date = 300):\n",
    "    label_list = None\n",
    "    target_state = df[df['province_state'] == state] \n",
    "    target_county = target_state[ target_state['admin2'] == county]\n",
    "    target_county = target_county.sort_values(by = 'date')\n",
    "    # target county will store a dataframe for a given county and in time order\n",
    "    \n",
    "    county_population = population_mapping_dict[(state,county)] # get total_population for nomalization\n",
    "    \n",
    "    \n",
    "    if label_type == \"normalized_cases\": # ask for number of cases cut by each group data\n",
    "        num_cuts = len(target_county)/group_date\n",
    "        assert(num_cuts >= 1), \"group_date is too big\"\n",
    "        label_list = []\n",
    "        for i in range(math.floor(num_cuts)):\n",
    "            if i <= math.floor(num_cuts) - 1:\n",
    "                index = (i+1)*group_date-1\n",
    "                label_list.append(target_county['tot_confirmed'].iloc[index])\n",
    "        if math.floor(num_cuts) != num_cuts:\n",
    "            label_list.append(target_county['tot_confirmed'].iloc[-1])\n",
    "            \n",
    "        ## perform normalization \n",
    "        for i in range(len(label_list)):\n",
    "            label_list[i] = label_list[i]/county_population\n",
    "       \n",
    "    \n",
    "    elif label_type == \"normalized_deaths\": # ask for number of deaths cut by each group data\n",
    "        num_cuts = len(target_county)/group_date\n",
    "        assert(num_cuts >= 1), \"group_date is too big\"\n",
    "        label_list = []\n",
    "        for i in range(math.floor(num_cuts)):\n",
    "            if i <= math.floor(num_cuts) - 1:\n",
    "                index = (i+1)*group_date-1\n",
    "                label_list.append(target_county['tot_death'].iloc[index])\n",
    "        if math.floor(num_cuts) != num_cuts:\n",
    "            label_list.append(target_county['tot_death'].iloc[-1])         \n",
    "        ## perform normalization \n",
    "        for i in range(len(label_list)):\n",
    "            label_list[i] = label_list[i]/county_population\n",
    "            \n",
    "            \n",
    "    elif label_type == \"cases_increase_rates\": # ask for the increase rate of cases cut by each group data\n",
    "        num_cuts = len(target_county)/group_date\n",
    "        assert(num_cuts >= 1), \"group_date is too big\"\n",
    "        label_list = []\n",
    "        for i in range(math.floor(num_cuts)):\n",
    "            if i == 0:\n",
    "                index = (i+1)*group_date-1\n",
    "                label_list.append(target_county['tot_confirmed'].iloc[index]/group_date)\n",
    "            elif i <= math.floor(num_cuts) - 1:\n",
    "                index = (i+1)*group_date-1\n",
    "                label_list.append((target_county['tot_confirmed'].iloc[index]- \\\n",
    "                                 target_county['tot_confirmed'].iloc[index-group_date])/group_date)\n",
    "        if math.floor(num_cuts) != num_cuts:\n",
    "            label_list.append((target_county['tot_confirmed'].iloc[-1] - \\\n",
    "                             target_county['tot_confirmed'].iloc[group_date*math.floor(num_cuts)-1])/ \\\n",
    "                              (len(target_county)-group_date*math.floor(num_cuts)))\n",
    "            \n",
    "            \n",
    "    elif label_type == \"deaths_increase_rates\": # ask for the increase rate of deaths cut by each group data\n",
    "        num_cuts = len(target_county)/group_date\n",
    "        assert(num_cuts >= 1), \"group_date is too big\"\n",
    "        label_list = []\n",
    "        for i in range(math.floor(num_cuts)):\n",
    "            if i == 0:\n",
    "                index = (i+1)*group_date-1\n",
    "                label_list.append(target_county['tot_death'].iloc[index]/group_date)\n",
    "            elif i <= math.floor(num_cuts) - 1:\n",
    "                index = (i+1)*group_date-1\n",
    "                label_list.append((target_county['tot_death'].iloc[index]- \\\n",
    "                                 target_county['tot_death'].iloc[index-group_date])/group_date)\n",
    "        if math.floor(num_cuts) != num_cuts:\n",
    "            label_list.append((target_county['tot_death'].iloc[-1] - \\\n",
    "                             target_county['tot_death'].iloc[group_date*math.floor(num_cuts)-1])/ \\\n",
    "                              (len(target_county)-group_date*math.floor(num_cuts)))\n",
    "      \n",
    "    \n",
    "    elif label_type == \"seriousness_label_cases\": \n",
    "        if target_county['tot_confirmed'].iloc[-1]/county_population > usa_total_cases_ratio_11_16:\n",
    "            return [1]\n",
    "        else:\n",
    "            return [0]\n",
    "        \n",
    "    elif label_type == \"seriousness_label_deaths\": \n",
    "        if target_county['tot_death'].iloc[-1]/county_population > usa_total_deaths_ratio_11_16:\n",
    "            return [1]\n",
    "        else:\n",
    "            return [0]       \n",
    "    \n",
    "    return label_list\n",
    "    "
   ]
  },
  {
   "cell_type": "markdown",
   "metadata": {},
   "source": [
    "# Sample usage"
   ]
  },
  {
   "cell_type": "markdown",
   "metadata": {},
   "source": [
    "## County mapping function"
   ]
  },
  {
   "cell_type": "markdown",
   "metadata": {},
   "source": [
    "Since the format of the county from election dataset is a bit different from that in covid dataset, I design the mapping function to convert the county in election data to the county in covid data. The format for county in election data is like this:"
   ]
  },
  {
   "cell_type": "code",
   "execution_count": 235,
   "metadata": {},
   "outputs": [
    {
     "data": {
      "text/plain": [
       "'Pike County, Georgia'"
      ]
     },
     "execution_count": 235,
     "metadata": {},
     "output_type": "execute_result"
    }
   ],
   "source": [
    "population[0]['fields']['county']"
   ]
  },
  {
   "cell_type": "markdown",
   "metadata": {},
   "source": [
    "We can use county mapping function on the above string and covert it to the data input like these : "
   ]
  },
  {
   "cell_type": "code",
   "execution_count": 236,
   "metadata": {},
   "outputs": [
    {
     "data": {
      "text/plain": [
       "['Georgia', 'Pike']"
      ]
     },
     "execution_count": 236,
     "metadata": {},
     "output_type": "execute_result"
    }
   ],
   "source": [
    "county_mapping(population[0]['fields']['county'])"
   ]
  },
  {
   "cell_type": "code",
   "execution_count": 237,
   "metadata": {},
   "outputs": [
    {
     "data": {
      "text/plain": [
       "['Washington', 'Franklin']"
      ]
     },
     "execution_count": 237,
     "metadata": {},
     "output_type": "execute_result"
    }
   ],
   "source": [
    "county_mapping(population[2]['fields']['county'])"
   ]
  },
  {
   "cell_type": "markdown",
   "metadata": {},
   "source": [
    "Note that the first element of the return list is state, and the second is the county."
   ]
  },
  {
   "cell_type": "markdown",
   "metadata": {},
   "source": [
    "#  y_label_generator(state, county, label_type, group_date = 300)"
   ]
  },
  {
   "cell_type": "markdown",
   "metadata": {},
   "source": [
    "The input of y lavel generator are as above. Not that state and county is the first and second element of the returning list from county_mapping function.\n",
    "\n",
    "label_type has 6 different value\n",
    "1. \"normalized_cases\" \n",
    "2. \"normalized_deaths\" \n",
    "3. \"deaths_increase_rates\"  (per day) \n",
    "4. \"cases_increase_rates\"   (per day) \n",
    "5. \"seriousness_label_cases\" (compared to whole US and is not affected by group date) (1 is more serious than\n",
    "    average) \n",
    "6. \"seriousness_label_deaths\" (compared to whole US and is not affected by group date)(1 is more serious than\n",
    "    average) \n",
    "\n",
    "group_date is the interval cut among the whole dataset. The default value is 300, because there are 300 days of data for each county. For example, if group date is 30, then there will be 300/30 = 10 times intervals, and our model will output list of len 10 to represent the value at the end (label_type 1 and 2) of the interval or the increase rate of the interval (label_type 3 and 4). Note that label_type 5 and 6 are not effected by group_date, since we just compare the seriousness of total cases or deaths at the last time period.\n",
    "(ps. it is better that you use a proper diviosr for 300 to avoid having remaindor. Though I add some constraint to let it work if it is not. I still recommend you do that way.)"
   ]
  },
  {
   "cell_type": "code",
   "execution_count": 238,
   "metadata": {},
   "outputs": [
    {
     "data": {
      "text/plain": [
       "[0.03764329512130098]"
      ]
     },
     "execution_count": 238,
     "metadata": {},
     "output_type": "execute_result"
    }
   ],
   "source": [
    "y_label_generator('Georgia', 'Pike', \"normalized_cases\", group_date = 300)"
   ]
  },
  {
   "cell_type": "code",
   "execution_count": 249,
   "metadata": {},
   "outputs": [
    {
     "data": {
      "text/plain": [
       "[0.0,\n",
       " 0.06666666666666667,\n",
       " 6.3,\n",
       " 9.166666666666666,\n",
       " 21.566666666666666,\n",
       " 54.666666666666664,\n",
       " 33.5,\n",
       " 12.966666666666667,\n",
       " 16.1,\n",
       " 29.7]"
      ]
     },
     "execution_count": 249,
     "metadata": {},
     "output_type": "execute_result"
    }
   ],
   "source": [
    "y_label_generator('Washington', 'Franklin', \"cases_increase_rates\", group_date = 30)"
   ]
  },
  {
   "cell_type": "code",
   "execution_count": 250,
   "metadata": {},
   "outputs": [
    {
     "data": {
      "text/plain": [
       "[0.0008800935413706829]"
      ]
     },
     "execution_count": 250,
     "metadata": {},
     "output_type": "execute_result"
    }
   ],
   "source": [
    "y_label_generator('Washington', 'Franklin', \"normalized_deaths\", group_date = 300)"
   ]
  },
  {
   "cell_type": "code",
   "execution_count": 251,
   "metadata": {},
   "outputs": [
    {
     "data": {
      "text/plain": [
       "[1]"
      ]
     },
     "execution_count": 251,
     "metadata": {},
     "output_type": "execute_result"
    }
   ],
   "source": [
    "y_label_generator('Wisconsin', 'Dane', \"seriousness_label_cases\", group_date = 30)"
   ]
  },
  {
   "cell_type": "code",
   "execution_count": 252,
   "metadata": {},
   "outputs": [
    {
     "data": {
      "text/plain": [
       "[0]"
      ]
     },
     "execution_count": 252,
     "metadata": {},
     "output_type": "execute_result"
    }
   ],
   "source": [
    "y_label_generator('Wisconsin', 'Dane', \"seriousness_label_deaths\", group_date = 30)"
   ]
  },
  {
   "cell_type": "code",
   "execution_count": null,
   "metadata": {},
   "outputs": [],
   "source": []
  }
 ],
 "metadata": {
  "kernelspec": {
   "display_name": "Python 3",
   "language": "python",
   "name": "python3"
  },
  "language_info": {
   "codemirror_mode": {
    "name": "ipython",
    "version": 3
   },
   "file_extension": ".py",
   "mimetype": "text/x-python",
   "name": "python",
   "nbconvert_exporter": "python",
   "pygments_lexer": "ipython3",
   "version": "3.8.5"
  }
 },
 "nbformat": 4,
 "nbformat_minor": 4
}
