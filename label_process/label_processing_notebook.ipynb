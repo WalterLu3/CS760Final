{
 "cells": [
  {
   "cell_type": "code",
   "execution_count": 1,
   "metadata": {},
   "outputs": [],
   "source": [
    "import json\n",
    "import os\n",
    "import pandas as pd\n",
    "import math"
   ]
  },
  {
   "cell_type": "markdown",
   "metadata": {},
   "source": [
    "# Data loading and dictionary building"
   ]
  },
  {
   "cell_type": "code",
   "execution_count": 2,
   "metadata": {},
   "outputs": [],
   "source": [
    "# Just run this cell one time, because it can take very long\n",
    "# load covid data\n",
    "\n",
    "json_file_path = 'coronavirus-covid-19-pandemic-usa-counties.json'\n",
    "\n",
    "with open(json_file_path,'r') as f:\n",
    "    data = None\n",
    "    data = json.load(f)\n",
    "dataset = []\n",
    "for row in data:\n",
    "    dataset.append(row['fields'])\n",
    "data = None # save memory\n",
    "df = pd.DataFrame(dataset)"
   ]
  },
  {
   "cell_type": "code",
   "execution_count": 3,
   "metadata": {},
   "outputs": [],
   "source": [
    "# Load population data\n",
    "json_file_path = 'usa-2016-presidential-election-by-county.json'\n",
    "\n",
    "with open(json_file_path,'r') as f:\n",
    "    data = None\n",
    "    data = json.load(f)\n",
    "population = data"
   ]
  },
  {
   "cell_type": "code",
   "execution_count": 4,
   "metadata": {},
   "outputs": [
    {
     "data": {
      "text/html": [
       "<div>\n",
       "<style scoped>\n",
       "    .dataframe tbody tr th:only-of-type {\n",
       "        vertical-align: middle;\n",
       "    }\n",
       "\n",
       "    .dataframe tbody tr th {\n",
       "        vertical-align: top;\n",
       "    }\n",
       "\n",
       "    .dataframe thead th {\n",
       "        text-align: right;\n",
       "    }\n",
       "</style>\n",
       "<table border=\"1\" class=\"dataframe\">\n",
       "  <thead>\n",
       "    <tr style=\"text-align: right;\">\n",
       "      <th></th>\n",
       "      <th>province_state</th>\n",
       "      <th>admin2</th>\n",
       "      <th>fips</th>\n",
       "      <th>location</th>\n",
       "      <th>tot_death</th>\n",
       "      <th>date</th>\n",
       "      <th>tot_confirmed</th>\n",
       "    </tr>\n",
       "  </thead>\n",
       "  <tbody>\n",
       "    <tr>\n",
       "      <th>0</th>\n",
       "      <td>Montana</td>\n",
       "      <td>Flathead</td>\n",
       "      <td>30029</td>\n",
       "      <td>[48.29575866, -114.0520569]</td>\n",
       "      <td>0</td>\n",
       "      <td>2020-02-27</td>\n",
       "      <td>0</td>\n",
       "    </tr>\n",
       "    <tr>\n",
       "      <th>1</th>\n",
       "      <td>Montana</td>\n",
       "      <td>Pondera</td>\n",
       "      <td>30073</td>\n",
       "      <td>[48.22773388, -112.2252703]</td>\n",
       "      <td>0</td>\n",
       "      <td>2020-02-27</td>\n",
       "      <td>0</td>\n",
       "    </tr>\n",
       "    <tr>\n",
       "      <th>2</th>\n",
       "      <td>Montana</td>\n",
       "      <td>Yellowstone</td>\n",
       "      <td>30111</td>\n",
       "      <td>[45.93955949, -108.2691486]</td>\n",
       "      <td>0</td>\n",
       "      <td>2020-02-27</td>\n",
       "      <td>0</td>\n",
       "    </tr>\n",
       "    <tr>\n",
       "      <th>3</th>\n",
       "      <td>Nebraska</td>\n",
       "      <td>Blaine</td>\n",
       "      <td>31009</td>\n",
       "      <td>[41.91311716, -99.97677845]</td>\n",
       "      <td>0</td>\n",
       "      <td>2020-02-27</td>\n",
       "      <td>0</td>\n",
       "    </tr>\n",
       "    <tr>\n",
       "      <th>4</th>\n",
       "      <td>Nebraska</td>\n",
       "      <td>Dixon</td>\n",
       "      <td>31051</td>\n",
       "      <td>[42.49188363, -96.86782408]</td>\n",
       "      <td>0</td>\n",
       "      <td>2020-02-27</td>\n",
       "      <td>0</td>\n",
       "    </tr>\n",
       "    <tr>\n",
       "      <th>...</th>\n",
       "      <td>...</td>\n",
       "      <td>...</td>\n",
       "      <td>...</td>\n",
       "      <td>...</td>\n",
       "      <td>...</td>\n",
       "      <td>...</td>\n",
       "      <td>...</td>\n",
       "    </tr>\n",
       "    <tr>\n",
       "      <th>986395</th>\n",
       "      <td>Mississippi</td>\n",
       "      <td>Lawrence</td>\n",
       "      <td>28077</td>\n",
       "      <td>[31.55147224, -90.10841127]</td>\n",
       "      <td>14</td>\n",
       "      <td>2020-10-03</td>\n",
       "      <td>441</td>\n",
       "    </tr>\n",
       "    <tr>\n",
       "      <th>986396</th>\n",
       "      <td>Mississippi</td>\n",
       "      <td>Neshoba</td>\n",
       "      <td>28099</td>\n",
       "      <td>[32.75339664, -89.11726492]</td>\n",
       "      <td>106</td>\n",
       "      <td>2020-10-03</td>\n",
       "      <td>1645</td>\n",
       "    </tr>\n",
       "    <tr>\n",
       "      <th>986397</th>\n",
       "      <td>Mississippi</td>\n",
       "      <td>Newton</td>\n",
       "      <td>28101</td>\n",
       "      <td>[32.40021118, -89.11843336]</td>\n",
       "      <td>25</td>\n",
       "      <td>2020-10-03</td>\n",
       "      <td>793</td>\n",
       "    </tr>\n",
       "    <tr>\n",
       "      <th>986398</th>\n",
       "      <td>Mississippi</td>\n",
       "      <td>Rankin</td>\n",
       "      <td>28121</td>\n",
       "      <td>[32.26469147, -89.94537876]</td>\n",
       "      <td>80</td>\n",
       "      <td>2020-10-03</td>\n",
       "      <td>3431</td>\n",
       "    </tr>\n",
       "    <tr>\n",
       "      <th>986399</th>\n",
       "      <td>Missouri</td>\n",
       "      <td>Cole</td>\n",
       "      <td>29051</td>\n",
       "      <td>[38.50455671, -92.27860244]</td>\n",
       "      <td>14</td>\n",
       "      <td>2020-10-03</td>\n",
       "      <td>1721</td>\n",
       "    </tr>\n",
       "  </tbody>\n",
       "</table>\n",
       "<p>986400 rows × 7 columns</p>\n",
       "</div>"
      ],
      "text/plain": [
       "       province_state       admin2   fips                     location  \\\n",
       "0             Montana     Flathead  30029  [48.29575866, -114.0520569]   \n",
       "1             Montana      Pondera  30073  [48.22773388, -112.2252703]   \n",
       "2             Montana  Yellowstone  30111  [45.93955949, -108.2691486]   \n",
       "3            Nebraska       Blaine  31009  [41.91311716, -99.97677845]   \n",
       "4            Nebraska        Dixon  31051  [42.49188363, -96.86782408]   \n",
       "...               ...          ...    ...                          ...   \n",
       "986395    Mississippi     Lawrence  28077  [31.55147224, -90.10841127]   \n",
       "986396    Mississippi      Neshoba  28099  [32.75339664, -89.11726492]   \n",
       "986397    Mississippi       Newton  28101  [32.40021118, -89.11843336]   \n",
       "986398    Mississippi       Rankin  28121  [32.26469147, -89.94537876]   \n",
       "986399       Missouri         Cole  29051  [38.50455671, -92.27860244]   \n",
       "\n",
       "        tot_death        date  tot_confirmed  \n",
       "0               0  2020-02-27              0  \n",
       "1               0  2020-02-27              0  \n",
       "2               0  2020-02-27              0  \n",
       "3               0  2020-02-27              0  \n",
       "4               0  2020-02-27              0  \n",
       "...           ...         ...            ...  \n",
       "986395         14  2020-10-03            441  \n",
       "986396        106  2020-10-03           1645  \n",
       "986397         25  2020-10-03            793  \n",
       "986398         80  2020-10-03           3431  \n",
       "986399         14  2020-10-03           1721  \n",
       "\n",
       "[986400 rows x 7 columns]"
      ]
     },
     "execution_count": 4,
     "metadata": {},
     "output_type": "execute_result"
    }
   ],
   "source": []
  },
  {
   "cell_type": "code",
   "execution_count": 27,
   "metadata": {},
   "outputs": [],
   "source": [
    "# county string mapping\n",
    "# give a county string ex. 'Dane County, Wiscosin', return a list where the first element is state, an the \n",
    "# second is county ex. ['Madison','Dane']\n",
    "def county_mapping(county_column):\n",
    "    county_string = county_column\n",
    "    county_string = county_string.split(',')\n",
    "    for i in range(len(county_string)):\n",
    "        if i == 0: \n",
    "            county_string[i] = county_string[i].replace(\" County\", \"\")\n",
    "        elif i == 1:\n",
    "            county_string[i] = county_string[i][1:]\n",
    "    state_name = county_string[1]\n",
    "    county_name = county_string[0]\n",
    "    return [state_name, county_name]"
   ]
  },
  {
   "cell_type": "code",
   "execution_count": 29,
   "metadata": {},
   "outputs": [],
   "source": [
    "# create mapping dictionary\n",
    "mapping_dict = {}\n",
    "\n",
    "for row in population:\n",
    "    mapping_dict[row['fields']['county']] = county_mapping(row['fields']['county'])"
   ]
  },
  {
   "cell_type": "code",
   "execution_count": 30,
   "metadata": {},
   "outputs": [],
   "source": [
    "# create population dictionary\n",
    "population_mapping_dict = {}\n",
    "adjustment_ratio = 328/323\n",
    "for row in population:\n",
    "    population_mapping_dict[tuple(county_mapping(row['fields']['county']))]= math.floor(row['fields']['total_population']*adjustment_ratio)"
   ]
  },
  {
   "cell_type": "code",
   "execution_count": 232,
   "metadata": {},
   "outputs": [],
   "source": [
    "# total_statics from us\n",
    "usa_total_population = sum(population_mapping_dict.values())*(328/305)\n",
    "\n",
    "usa_total_cases_11_16 = df[df['date'] == df['date'].max()]['tot_confirmed'].sum()\n",
    "usa_total_deaths_11_16 = df[df['date'] == df['date'].max()]['tot_death'].sum()\n",
    "\n",
    "usa_total_cases_ratio_11_16 = usa_total_cases_11_16/usa_total_population\n",
    "\n",
    "usa_total_deaths_ratio_11_16 = usa_total_deaths_11_16/usa_total_population"
   ]
  },
  {
   "cell_type": "markdown",
   "metadata": {},
   "source": [
    "# Label generating function"
   ]
  },
  {
   "cell_type": "code",
   "execution_count": 40,
   "metadata": {},
   "outputs": [],
   "source": [
    "#This dataset has 300 days of corona virus data from 2020-01-22 to 2020-11-16\n",
    "#If you want to see the detail of the dataset, use df.head()\n",
    "\n",
    "#input state, county, label type, and group date\n",
    "#\n",
    "#you can either use getmapping dictionary or get mapping function to get the input for state name and county name\n",
    "#\n",
    "#label_type has 6 different value\n",
    "#1. \"normalized_cases\" 2. \"normalized_deaths\" 3.deaths_increase_rates  (d1-d0)/population \n",
    "#4. cases_increase_rates (c1-c0)/population 5. seriousness_label_cases (compared to whole US and is not affected by \n",
    "#group date) 6. seriousness_label_deaths (compared to whole US and is not affected by group date)\n",
    "# \n",
    "# The return will be a list of label or labels for a county\n",
    "#\n",
    "\n",
    "\n",
    "def y_label_generator(state, county, label_type, group_date = 300):\n",
    "    label_list = None\n",
    "    target_state = df[df['province_state'] == state]\n",
    "    if county != 'nan': \n",
    "        target_county = target_state[ target_state['admin2'] == county]\n",
    "    else:\n",
    "        target_county = target_state[ target_state['admin2'].isna()]\n",
    "    target_county = target_county.sort_values(by = 'date')\n",
    "    # target county will store a dataframe for a given county and in time order\n",
    "    \n",
    "    county_population = population_mapping_dict[(state,county)] # get total_population for nomalization\n",
    "    \n",
    "    \n",
    "    if label_type == \"normalized_cases\": # ask for number of cases cut by each group data\n",
    "        num_cuts = len(target_county)/group_date\n",
    "        assert(num_cuts >= 1), \"group_date is too big\"\n",
    "        label_list = []\n",
    "        for i in range(math.floor(num_cuts)):\n",
    "            if i <= math.floor(num_cuts) - 1:\n",
    "                index = (i+1)*group_date-1\n",
    "                label_list.append(target_county['tot_confirmed'].iloc[index])\n",
    "        if math.floor(num_cuts) != num_cuts:\n",
    "            label_list.append(target_county['tot_confirmed'].iloc[-1])\n",
    "            \n",
    "        ## perform normalization \n",
    "        for i in range(len(label_list)):\n",
    "            label_list[i] = label_list[i]/county_population\n",
    "       \n",
    "    \n",
    "    elif label_type == \"normalized_deaths\": # ask for number of deaths cut by each group data\n",
    "        num_cuts = len(target_county)/group_date\n",
    "        assert(num_cuts >= 1), \"group_date is too big\"\n",
    "        label_list = []\n",
    "        for i in range(math.floor(num_cuts)):\n",
    "            if i <= math.floor(num_cuts) - 1:\n",
    "                index = (i+1)*group_date-1\n",
    "                label_list.append(target_county['tot_death'].iloc[index])\n",
    "        if math.floor(num_cuts) != num_cuts:\n",
    "            label_list.append(target_county['tot_death'].iloc[-1])         \n",
    "        ## perform normalization \n",
    "        for i in range(len(label_list)):\n",
    "            label_list[i] = label_list[i]/county_population\n",
    "            \n",
    "            \n",
    "    elif label_type == \"cases_increase_rates\": # ask for the increase rate of cases cut by each group data\n",
    "        num_cuts = len(target_county)/group_date\n",
    "        assert(num_cuts >= 1), \"group_date is too big\"\n",
    "        label_list = []\n",
    "        for i in range(math.floor(num_cuts)):\n",
    "            if i == 0:\n",
    "                index = (i+1)*group_date-1\n",
    "                label_list.append(target_county['tot_confirmed'].iloc[index]/county_population)\n",
    "            elif i <= math.floor(num_cuts) - 1:\n",
    "                index = (i+1)*group_date-1\n",
    "                label_list.append((target_county['tot_confirmed'].iloc[index]- \\\n",
    "                                 target_county['tot_confirmed'].iloc[index-group_date])/county_population)\n",
    "        if math.floor(num_cuts) != num_cuts:\n",
    "            label_list.append((target_county['tot_confirmed'].iloc[-1] - \\\n",
    "                             target_county['tot_confirmed'].iloc[group_date*math.floor(num_cuts)-1])/ \\\n",
    "                              county_population)\n",
    "            \n",
    "            \n",
    "    elif label_type == \"deaths_increase_rates\": # ask for the increase rate of deaths cut by each group data\n",
    "        num_cuts = len(target_county)/group_date\n",
    "        assert(num_cuts >= 1), \"group_date is too big\"\n",
    "        label_list = []\n",
    "        for i in range(math.floor(num_cuts)):\n",
    "            if i == 0:\n",
    "                index = (i+1)*group_date-1\n",
    "                label_list.append(target_county['tot_death'].iloc[index]/county_population)\n",
    "            elif i <= math.floor(num_cuts) - 1:\n",
    "                index = (i+1)*group_date-1\n",
    "                label_list.append((target_county['tot_death'].iloc[index]- \\\n",
    "                                 target_county['tot_death'].iloc[index-group_date])/county_population)\n",
    "        if math.floor(num_cuts) != num_cuts:\n",
    "            label_list.append((target_county['tot_death'].iloc[-1] - \\\n",
    "                             target_county['tot_death'].iloc[group_date*math.floor(num_cuts)-1])/ \\\n",
    "                              county_population)\n",
    "      \n",
    "    \n",
    "    elif label_type == \"seriousness_label_cases\": \n",
    "        if target_county['tot_confirmed'].iloc[-1]/county_population > usa_total_cases_ratio_11_16:\n",
    "            return [1]\n",
    "        else:\n",
    "            return [0]\n",
    "        \n",
    "    elif label_type == \"seriousness_label_deaths\": \n",
    "        if target_county['tot_death'].iloc[-1]/county_population > usa_total_deaths_ratio_11_16:\n",
    "            return [1]\n",
    "        else:\n",
    "            return [0]       \n",
    "    \n",
    "    return label_list\n",
    "    "
   ]
  },
  {
   "cell_type": "markdown",
   "metadata": {},
   "source": [
    "# Sample usage"
   ]
  },
  {
   "cell_type": "markdown",
   "metadata": {},
   "source": [
    "## County mapping function"
   ]
  },
  {
   "cell_type": "markdown",
   "metadata": {},
   "source": [
    "Since the format of the county from election dataset is a bit different from that in covid dataset, I design the mapping function to convert the county in election data to the county in covid data. The format for county in election data is like this:"
   ]
  },
  {
   "cell_type": "code",
   "execution_count": 235,
   "metadata": {},
   "outputs": [
    {
     "data": {
      "text/plain": [
       "'Pike County, Georgia'"
      ]
     },
     "execution_count": 235,
     "metadata": {},
     "output_type": "execute_result"
    }
   ],
   "source": [
    "population[0]['fields']['county']"
   ]
  },
  {
   "cell_type": "markdown",
   "metadata": {},
   "source": [
    "We can use county mapping function on the above string and covert it to the data input like these : "
   ]
  },
  {
   "cell_type": "code",
   "execution_count": 236,
   "metadata": {},
   "outputs": [
    {
     "data": {
      "text/plain": [
       "['Georgia', 'Pike']"
      ]
     },
     "execution_count": 236,
     "metadata": {},
     "output_type": "execute_result"
    }
   ],
   "source": [
    "county_mapping(population[0]['fields']['county'])"
   ]
  },
  {
   "cell_type": "code",
   "execution_count": 237,
   "metadata": {},
   "outputs": [
    {
     "data": {
      "text/plain": [
       "['Washington', 'Franklin']"
      ]
     },
     "execution_count": 237,
     "metadata": {},
     "output_type": "execute_result"
    }
   ],
   "source": [
    "county_mapping(population[2]['fields']['county'])"
   ]
  },
  {
   "cell_type": "markdown",
   "metadata": {},
   "source": [
    "Note that the first element of the return list is state, and the second is the county."
   ]
  },
  {
   "cell_type": "markdown",
   "metadata": {},
   "source": [
    "#  y_label_generator(state, county, label_type, group_date = 300)"
   ]
  },
  {
   "cell_type": "markdown",
   "metadata": {},
   "source": [
    "The input of y lavel generator are as above. Not that state and county is the first and second element of the returning list from county_mapping function.\n",
    "\n",
    "label_type has 6 different value\n",
    "1. \"normalized_cases\" \n",
    "2. \"normalized_deaths\" \n",
    "3. \"deaths_increase_rates\"  (per day) \n",
    "4. \"cases_increase_rates\"   (per day) \n",
    "5. \"seriousness_label_cases\" (compared to whole US and is not affected by group date) (1 is more serious than\n",
    "    average) \n",
    "6. \"seriousness_label_deaths\" (compared to whole US and is not affected by group date)(1 is more serious than\n",
    "    average) \n",
    "\n",
    "group_date is the interval cut among the whole dataset. The default value is 300, because there are 300 days of data for each county. For example, if group date is 30, then there will be 300/30 = 10 times intervals, and our model will output list of len 10 to represent the value at the end (label_type 1 and 2) of the interval or the increase rate of the interval (label_type 3 and 4). Note that label_type 5 and 6 are not effected by group_date, since we just compare the seriousness of total cases or deaths at the last time period.\n",
    "(ps. it is better that you use a proper diviosr for 300 to avoid having remaindor. Though I add some constraint to let it work if it is not. I still recommend you do that way.)"
   ]
  },
  {
   "cell_type": "code",
   "execution_count": 37,
   "metadata": {},
   "outputs": [
    {
     "data": {
      "text/plain": [
       "[0.03764329512130098]"
      ]
     },
     "execution_count": 37,
     "metadata": {},
     "output_type": "execute_result"
    }
   ],
   "source": [
    "y_label_generator('Georgia', 'Pike', \"normalized_cases\", group_date = 300)"
   ]
  },
  {
   "cell_type": "code",
   "execution_count": 38,
   "metadata": {},
   "outputs": [
    {
     "data": {
      "text/plain": [
       "[0.0,\n",
       " 0.06666666666666667,\n",
       " 6.3,\n",
       " 9.166666666666666,\n",
       " 21.566666666666666,\n",
       " 54.666666666666664,\n",
       " 33.5,\n",
       " 12.966666666666667,\n",
       " 16.1,\n",
       " 29.7]"
      ]
     },
     "execution_count": 38,
     "metadata": {},
     "output_type": "execute_result"
    }
   ],
   "source": [
    "y_label_generator('Washington', 'Franklin', \"cases_increase_rates\", group_date = 30)"
   ]
  },
  {
   "cell_type": "code",
   "execution_count": 39,
   "metadata": {},
   "outputs": [
    {
     "data": {
      "text/plain": [
       "[0.0008800935413706829]"
      ]
     },
     "execution_count": 39,
     "metadata": {},
     "output_type": "execute_result"
    }
   ],
   "source": [
    "y_label_generator('Washington', 'Franklin', \"normalized_deaths\", group_date = 300)"
   ]
  },
  {
   "cell_type": "code",
   "execution_count": 251,
   "metadata": {},
   "outputs": [
    {
     "data": {
      "text/plain": [
       "[1]"
      ]
     },
     "execution_count": 251,
     "metadata": {},
     "output_type": "execute_result"
    }
   ],
   "source": [
    "y_label_generator('Wisconsin', 'Dane', \"seriousness_label_cases\", group_date = 30)"
   ]
  },
  {
   "cell_type": "code",
   "execution_count": 252,
   "metadata": {},
   "outputs": [
    {
     "data": {
      "text/plain": [
       "[0]"
      ]
     },
     "execution_count": 252,
     "metadata": {},
     "output_type": "execute_result"
    }
   ],
   "source": [
    "y_label_generator('Wisconsin', 'Dane', \"seriousness_label_deaths\", group_date = 30)"
   ]
  }
 ],
 "metadata": {
  "kernelspec": {
   "display_name": "Python 3",
   "language": "python",
   "name": "python3"
  },
  "language_info": {
   "codemirror_mode": {
    "name": "ipython",
    "version": 3
   },
   "file_extension": ".py",
   "mimetype": "text/x-python",
   "name": "python",
   "nbconvert_exporter": "python",
   "pygments_lexer": "ipython3",
   "version": "3.8.3"
  }
 },
 "nbformat": 4,
 "nbformat_minor": 4
}
