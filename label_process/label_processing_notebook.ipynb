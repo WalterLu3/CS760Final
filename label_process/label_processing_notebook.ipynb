{
 "cells": [
  {
   "cell_type": "code",
   "execution_count": 1,
   "metadata": {},
   "outputs": [],
   "source": [
    "import json\n",
    "import os\n",
    "import pandas as pd\n",
    "import math"
   ]
  },
  {
   "cell_type": "markdown",
   "metadata": {},
   "source": [
    "# Data loading and dictionary building"
   ]
  },
  {
   "cell_type": "code",
   "execution_count": 2,
   "metadata": {},
   "outputs": [
    {
     "data": {
      "text/html": [
       "<div>\n",
       "<style scoped>\n",
       "    .dataframe tbody tr th:only-of-type {\n",
       "        vertical-align: middle;\n",
       "    }\n",
       "\n",
       "    .dataframe tbody tr th {\n",
       "        vertical-align: top;\n",
       "    }\n",
       "\n",
       "    .dataframe thead th {\n",
       "        text-align: right;\n",
       "    }\n",
       "</style>\n",
       "<table border=\"1\" class=\"dataframe\">\n",
       "  <thead>\n",
       "    <tr style=\"text-align: right;\">\n",
       "      <th></th>\n",
       "      <th>admin2</th>\n",
       "      <th>date</th>\n",
       "      <th>fips</th>\n",
       "      <th>location</th>\n",
       "      <th>province_state</th>\n",
       "      <th>tot_confirmed</th>\n",
       "      <th>tot_death</th>\n",
       "    </tr>\n",
       "  </thead>\n",
       "  <tbody>\n",
       "    <tr>\n",
       "      <th>0</th>\n",
       "      <td>Flathead</td>\n",
       "      <td>2020-02-27</td>\n",
       "      <td>30029</td>\n",
       "      <td>[48.29575866, -114.0520569]</td>\n",
       "      <td>Montana</td>\n",
       "      <td>0</td>\n",
       "      <td>0</td>\n",
       "    </tr>\n",
       "    <tr>\n",
       "      <th>1</th>\n",
       "      <td>Pondera</td>\n",
       "      <td>2020-02-27</td>\n",
       "      <td>30073</td>\n",
       "      <td>[48.22773388, -112.2252703]</td>\n",
       "      <td>Montana</td>\n",
       "      <td>0</td>\n",
       "      <td>0</td>\n",
       "    </tr>\n",
       "    <tr>\n",
       "      <th>2</th>\n",
       "      <td>Yellowstone</td>\n",
       "      <td>2020-02-27</td>\n",
       "      <td>30111</td>\n",
       "      <td>[45.93955949, -108.2691486]</td>\n",
       "      <td>Montana</td>\n",
       "      <td>0</td>\n",
       "      <td>0</td>\n",
       "    </tr>\n",
       "    <tr>\n",
       "      <th>3</th>\n",
       "      <td>Blaine</td>\n",
       "      <td>2020-02-27</td>\n",
       "      <td>31009</td>\n",
       "      <td>[41.91311716, -99.97677845]</td>\n",
       "      <td>Nebraska</td>\n",
       "      <td>0</td>\n",
       "      <td>0</td>\n",
       "    </tr>\n",
       "    <tr>\n",
       "      <th>4</th>\n",
       "      <td>Dixon</td>\n",
       "      <td>2020-02-27</td>\n",
       "      <td>31051</td>\n",
       "      <td>[42.49188363, -96.86782408]</td>\n",
       "      <td>Nebraska</td>\n",
       "      <td>0</td>\n",
       "      <td>0</td>\n",
       "    </tr>\n",
       "  </tbody>\n",
       "</table>\n",
       "</div>"
      ],
      "text/plain": [
       "        admin2        date   fips                     location province_state  \\\n",
       "0     Flathead  2020-02-27  30029  [48.29575866, -114.0520569]        Montana   \n",
       "1      Pondera  2020-02-27  30073  [48.22773388, -112.2252703]        Montana   \n",
       "2  Yellowstone  2020-02-27  30111  [45.93955949, -108.2691486]        Montana   \n",
       "3       Blaine  2020-02-27  31009  [41.91311716, -99.97677845]       Nebraska   \n",
       "4        Dixon  2020-02-27  31051  [42.49188363, -96.86782408]       Nebraska   \n",
       "\n",
       "   tot_confirmed  tot_death  \n",
       "0              0          0  \n",
       "1              0          0  \n",
       "2              0          0  \n",
       "3              0          0  \n",
       "4              0          0  "
      ]
     },
     "execution_count": 2,
     "metadata": {},
     "output_type": "execute_result"
    }
   ],
   "source": [
    "# Just run this cell one time, because it can take very long\n",
    "# load covid data\n",
    "\n",
    "json_file_path = 'coronavirus-covid-19-pandemic-usa-counties.json'\n",
    "\n",
    "with open(json_file_path,'r') as f:\n",
    "    data = None\n",
    "    data = json.load(f)\n",
    "dataset = []\n",
    "for row in data:\n",
    "    dataset.append(row['fields'])\n",
    "data = None # save memory\n",
    "df = pd.DataFrame(dataset)\n",
    "df.head()"
   ]
  },
  {
   "cell_type": "code",
   "execution_count": 3,
   "metadata": {},
   "outputs": [],
   "source": [
    "# Load population data\n",
    "json_file_path = 'usa-2016-presidential-election-by-county.json'\n",
    "\n",
    "with open(json_file_path,'r') as f:\n",
    "    data = None\n",
    "    data = json.load(f)\n",
    "population = data"
   ]
  },
  {
   "cell_type": "code",
   "execution_count": 4,
   "metadata": {},
   "outputs": [],
   "source": [
    "# county string mapping\n",
    "# give a county string ex. 'Dane County, Wiscosin', return a list where the first element is state, an the \n",
    "# second is county ex. ['Madison','Dane']\n",
    "def county_mapping(county_column):\n",
    "    county_string = county_column\n",
    "    county_string = county_string.split(',')\n",
    "    for i in range(len(county_string)):\n",
    "        if i == 0: \n",
    "            county_string[i] = county_string[i].replace(\" County\", \"\")\n",
    "        elif i == 1:\n",
    "            county_string[i] = county_string[i][1:]\n",
    "    state_name = county_string[1]\n",
    "    county_name = county_string[0]\n",
    "    return [state_name, county_name]"
   ]
  },
  {
   "cell_type": "code",
   "execution_count": 5,
   "metadata": {},
   "outputs": [],
   "source": [
    "# create mapping dictionary\n",
    "mapping_dict = {}\n",
    "\n",
    "for row in population:\n",
    "    mapping_dict[row['fields']['county']] = county_mapping(row['fields']['county'])"
   ]
  },
  {
   "cell_type": "code",
   "execution_count": 6,
   "metadata": {},
   "outputs": [],
   "source": [
    "# create population dictionary\n",
    "population_mapping_dict = {}\n",
    "adjustment_ratio = 328/305\n",
    "for row in population:\n",
    "    population_mapping_dict[tuple(county_mapping(row['fields']['county']))]= math.floor(row['fields']['total_population']*adjustment_ratio)"
   ]
  },
  {
   "cell_type": "code",
   "execution_count": 7,
   "metadata": {},
   "outputs": [],
   "source": [
    "# total_statics from us\n",
    "usa_total_population = sum(population_mapping_dict.values())\n",
    "\n",
    "usa_total_cases_11_16 = df[df['date'] == df['date'].max()]['tot_confirmed'].sum()\n",
    "usa_total_deaths_11_16 = df[df['date'] == df['date'].max()]['tot_death'].sum()\n",
    "\n",
    "usa_total_cases_ratio_11_16 = usa_total_cases_11_16/usa_total_population\n",
    "\n",
    "usa_total_deaths_ratio_11_16 = usa_total_deaths_11_16/usa_total_population"
   ]
  },
  {
   "cell_type": "markdown",
   "metadata": {},
   "source": [
    "# Label generating function"
   ]
  },
  {
   "cell_type": "code",
   "execution_count": 8,
   "metadata": {},
   "outputs": [],
   "source": [
    "#This dataset has 300 days of corona virus data from 2020-01-22 to 2020-11-16\n",
    "#If you want to see the detail of the dataset, use df.head()\n",
    "\n",
    "#input state, county, label type, and group date\n",
    "#\n",
    "#you can either use getmapping dictionary or get mapping function to get the input for state name and county name\n",
    "#\n",
    "#label_type has 6 different value\n",
    "#1. \"normalized_cases\" 2. \"normalized_deaths\" 3.deaths_increase_rates  (per day) \n",
    "#4. cases_increase_rates(per day) 5. seriousness_label_cases (compared to whole US and is not affected by \n",
    "#group date) 6. seriousness_label_deaths (compared to whole US and is not affected by group date)\n",
    "# \n",
    "# The return will be a list of label or labels for a county\n",
    "#\n",
    "def get_county_population(fips):\n",
    "    for county in population:\n",
    "        if county['fields']['fips'] == fips:\n",
    "            return county['fields']['total_population']\n",
    "    return None\n",
    "\n",
    "def y_label_generator(fips, label_type, group_date = 300):\n",
    "    label_list = None\n",
    "#     target_state = df[df['province_state'] == state] \n",
    "#     target_county = target_state[ target_state['admin2'] == county]\n",
    "    target_county = df[df['fips'] == fips]\n",
    "    target_county = target_county.sort_values(by = 'date')\n",
    "    # target county will store a dataframe for a given county and in time order\n",
    "    \n",
    "    #county_population = population_mapping_dict[(state,county)] # get total_population for nomalization\n",
    "    county_population = get_county_population(fips)\n",
    "    \n",
    "    if label_type == \"normalized_cases\": # ask for number of cases cut by each group data\n",
    "        num_cuts = len(target_county)/group_date\n",
    "        assert(num_cuts >= 1), \"group_date is too big\"\n",
    "        label_list = []\n",
    "        for i in range(math.floor(num_cuts)):\n",
    "            if i <= math.floor(num_cuts) - 1:\n",
    "                index = (i+1)*group_date-1\n",
    "                label_list.append(target_county['tot_confirmed'].iloc[index])\n",
    "        if math.floor(num_cuts) != num_cuts:\n",
    "            label_list.append(target_county['tot_confirmed'].iloc[-1])\n",
    "            \n",
    "        ## perform normalization \n",
    "        for i in range(len(label_list)):\n",
    "            label_list[i] = label_list[i]/county_population\n",
    "       \n",
    "    \n",
    "    elif label_type == \"normalized_deaths\": # ask for number of deaths cut by each group data\n",
    "        num_cuts = len(target_county)/group_date\n",
    "        assert(num_cuts >= 1), \"group_date is too big\"\n",
    "        label_list = []\n",
    "        for i in range(math.floor(num_cuts)):\n",
    "            if i <= math.floor(num_cuts) - 1:\n",
    "                index = (i+1)*group_date-1\n",
    "                label_list.append(target_county['tot_death'].iloc[index])\n",
    "        if math.floor(num_cuts) != num_cuts:\n",
    "            label_list.append(target_county['tot_death'].iloc[-1])         \n",
    "        ## perform normalization \n",
    "        for i in range(len(label_list)):\n",
    "            label_list[i] = label_list[i]/county_population\n",
    "            \n",
    "            \n",
    "    elif label_type == \"cases_increase_rates\": # ask for the increase rate of cases cut by each group data\n",
    "        num_cuts = len(target_county)/group_date\n",
    "        assert(num_cuts >= 1), \"group_date is too big\"\n",
    "        label_list = []\n",
    "        for i in range(math.floor(num_cuts)):\n",
    "            if i == 0:\n",
    "                index = (i+1)*group_date-1\n",
    "                label_list.append(target_county['tot_confirmed'].iloc[index]/group_date)\n",
    "            elif i <= math.floor(num_cuts) - 1:\n",
    "                index = (i+1)*group_date-1\n",
    "                label_list.append((target_county['tot_confirmed'].iloc[index]- \\\n",
    "                                 target_county['tot_confirmed'].iloc[index-group_date])/group_date)\n",
    "        if math.floor(num_cuts) != num_cuts:\n",
    "            label_list.append((target_county['tot_confirmed'].iloc[-1] - \\\n",
    "                             target_county['tot_confirmed'].iloc[group_date*math.floor(num_cuts)-1])/ \\\n",
    "                              (len(target_county)-group_date*math.floor(num_cuts)))\n",
    "            \n",
    "            \n",
    "    elif label_type == \"deaths_increase_rates\": # ask for the increase rate of deaths cut by each group data\n",
    "        num_cuts = len(target_county)/group_date\n",
    "        assert(num_cuts >= 1), \"group_date is too big\"\n",
    "        label_list = []\n",
    "        for i in range(math.floor(num_cuts)):\n",
    "            if i == 0:\n",
    "                index = (i+1)*group_date-1\n",
    "                label_list.append(target_county['tot_death'].iloc[index]/group_date)\n",
    "            elif i <= math.floor(num_cuts) - 1:\n",
    "                index = (i+1)*group_date-1\n",
    "                label_list.append((target_county['tot_death'].iloc[index]- \\\n",
    "                                 target_county['tot_death'].iloc[index-group_date])/group_date)\n",
    "        if math.floor(num_cuts) != num_cuts:\n",
    "            label_list.append((target_county['tot_death'].iloc[-1] - \\\n",
    "                             target_county['tot_death'].iloc[group_date*math.floor(num_cuts)-1])/ \\\n",
    "                              (len(target_county)-group_date*math.floor(num_cuts)))\n",
    "      \n",
    "    \n",
    "    elif label_type == \"seriousness_label_cases\": \n",
    "        if target_county['tot_confirmed'].iloc[-1]/county_population > usa_total_cases_ratio_11_16:\n",
    "            return [1]\n",
    "        else:\n",
    "            return [0]\n",
    "        \n",
    "    elif label_type == \"seriousness_label_deaths\": \n",
    "        if target_county['tot_death'].iloc[-1]/county_population > usa_total_deaths_ratio_11_16:\n",
    "            return [1]\n",
    "        else:\n",
    "            return [0]       \n",
    "    \n",
    "    return label_list\n",
    "    "
   ]
  },
  {
   "cell_type": "markdown",
   "metadata": {},
   "source": [
    "# Sample usage"
   ]
  },
  {
   "cell_type": "markdown",
   "metadata": {},
   "source": [
    "## County mapping function"
   ]
  },
  {
   "cell_type": "markdown",
   "metadata": {},
   "source": [
    "Since the format of the county from election dataset is a bit different from that in covid dataset, I design the mapping function to convert the county in election data to the county in covid data. The format for county in election data is like this:"
   ]
  },
  {
   "cell_type": "code",
   "execution_count": 9,
   "metadata": {},
   "outputs": [
    {
     "data": {
      "text/plain": [
       "'Pike County, Georgia'"
      ]
     },
     "execution_count": 9,
     "metadata": {},
     "output_type": "execute_result"
    }
   ],
   "source": [
    "population[0]['fields']['county']"
   ]
  },
  {
   "cell_type": "markdown",
   "metadata": {},
   "source": [
    "We can use county mapping function on the above string and covert it to the data input like these : "
   ]
  },
  {
   "cell_type": "code",
   "execution_count": 10,
   "metadata": {},
   "outputs": [
    {
     "data": {
      "text/plain": [
       "['Georgia', 'Pike']"
      ]
     },
     "execution_count": 10,
     "metadata": {},
     "output_type": "execute_result"
    }
   ],
   "source": [
    "county_mapping(population[0]['fields']['county'])"
   ]
  },
  {
   "cell_type": "code",
   "execution_count": 11,
   "metadata": {},
   "outputs": [
    {
     "data": {
      "text/plain": [
       "['Washington', 'Franklin']"
      ]
     },
     "execution_count": 11,
     "metadata": {},
     "output_type": "execute_result"
    }
   ],
   "source": [
    "county_mapping(population[2]['fields']['county'])"
   ]
  },
  {
   "cell_type": "markdown",
   "metadata": {},
   "source": [
    "Note that the first element of the return list is state, and the second is the county."
   ]
  },
  {
   "cell_type": "markdown",
   "metadata": {},
   "source": [
    "#  y_label_generator(state, county, label_type, group_date = 300)"
   ]
  },
  {
   "cell_type": "markdown",
   "metadata": {},
   "source": [
    "The input of y lavel generator are as above. Not that state and county is the first and second element of the returning list from county_mapping function.\n",
    "\n",
    "label_type has 6 different value\n",
    "1. \"normalized_cases\" \n",
    "2. \"normalized_deaths\" \n",
    "3. \"deaths_increase_rates\"  (per day) \n",
    "4. \"cases_increase_rates\"   (per day) \n",
    "5. \"seriousness_label_cases\" (compared to whole US and is not affected by group date) (1 is more serious than\n",
    "    average) \n",
    "6. \"seriousness_label_deaths\" (compared to whole US and is not affected by group date)(1 is more serious than\n",
    "    average) \n",
    "\n",
    "group_date is the interval cut among the whole dataset. The default value is 300, because there are 300 days of data for each county. For example, if group date is 30, then there will be 300/30 = 10 times intervals, and our model will output list of len 10 to represent the value at the end (label_type 1 and 2) of the interval or the increase rate of the interval (label_type 3 and 4). Note that label_type 5 and 6 are not effected by group_date, since we just compare the seriousness of total cases or deaths at the last time period.\n",
    "(ps. it is better that you use a proper diviosr for 300 to avoid having remaindor. Though I add some constraint to let it work if it is not. I still recommend you do that way.)"
   ]
  },
  {
   "cell_type": "code",
   "execution_count": 12,
   "metadata": {},
   "outputs": [
    {
     "data": {
      "text/plain": [
       "[0.04048165137614679]"
      ]
     },
     "execution_count": 12,
     "metadata": {},
     "output_type": "execute_result"
    }
   ],
   "source": [
    "y_label_generator(\"13231\", \"normalized_cases\", group_date = 300)"
   ]
  },
  {
   "cell_type": "code",
   "execution_count": 13,
   "metadata": {},
   "outputs": [
    {
     "ename": "TypeError",
     "evalue": "y_label_generator() got multiple values for argument 'group_date'",
     "output_type": "error",
     "traceback": [
      "\u001b[0;31m---------------------------------------------------------------------------\u001b[0m",
      "\u001b[0;31mTypeError\u001b[0m                                 Traceback (most recent call last)",
      "\u001b[0;32m<ipython-input-13-2d47a7b715e4>\u001b[0m in \u001b[0;36m<module>\u001b[0;34m\u001b[0m\n\u001b[0;32m----> 1\u001b[0;31m \u001b[0my_label_generator\u001b[0m\u001b[0;34m(\u001b[0m\u001b[0;34m'Georgia'\u001b[0m\u001b[0;34m,\u001b[0m \u001b[0;34m'Pike'\u001b[0m\u001b[0;34m,\u001b[0m \u001b[0;34m\"normalized_cases\"\u001b[0m\u001b[0;34m,\u001b[0m \u001b[0mgroup_date\u001b[0m \u001b[0;34m=\u001b[0m \u001b[0;36m300\u001b[0m\u001b[0;34m)\u001b[0m\u001b[0;34m\u001b[0m\u001b[0;34m\u001b[0m\u001b[0m\n\u001b[0m",
      "\u001b[0;31mTypeError\u001b[0m: y_label_generator() got multiple values for argument 'group_date'"
     ]
    }
   ],
   "source": [
    "y_label_generator('Georgia', 'Pike', \"normalized_cases\", group_date = 300)"
   ]
  },
  {
   "cell_type": "code",
   "execution_count": null,
   "metadata": {},
   "outputs": [],
   "source": [
    "y_label_generator('Washington', 'Franklin', \"cases_increase_rates\", group_date = 30)"
   ]
  },
  {
   "cell_type": "code",
   "execution_count": null,
   "metadata": {},
   "outputs": [],
   "source": [
    "y_label_generator('Washington', 'Franklin', \"normalized_deaths\", group_date = 300)"
   ]
  },
  {
   "cell_type": "code",
   "execution_count": null,
   "metadata": {},
   "outputs": [],
   "source": [
    "y_label_generator('Wisconsin', 'Dane', \"seriousness_label_cases\", group_date = 30)"
   ]
  },
  {
   "cell_type": "code",
   "execution_count": null,
   "metadata": {},
   "outputs": [],
   "source": [
    "y_label_generator(\"13231\", \"seriousness_label_cases\", group_date = 30)"
   ]
  },
  {
   "cell_type": "code",
   "execution_count": null,
   "metadata": {},
   "outputs": [],
   "source": [
    "y_label_generator(\"51145\", \"seriousness_label_cases\", group_date = 30)"
   ]
  },
  {
   "cell_type": "code",
   "execution_count": null,
   "metadata": {},
   "outputs": [],
   "source": [
    "y_label_generator('Wisconsin', 'Dane', \"seriousness_label_deaths\", group_date = 30)"
   ]
  },
  {
   "cell_type": "code",
   "execution_count": 15,
   "metadata": {},
   "outputs": [
    {
     "ename": "TypeError",
     "evalue": "unsupported operand type(s) for /: 'int' and 'NoneType'",
     "output_type": "error",
     "traceback": [
      "\u001b[0;31m---------------------------------------------------------------------------\u001b[0m",
      "\u001b[0;31mTypeError\u001b[0m                                 Traceback (most recent call last)",
      "\u001b[0;32m<ipython-input-15-a64e0a1ba281>\u001b[0m in \u001b[0;36m<module>\u001b[0;34m\u001b[0m\n\u001b[1;32m      3\u001b[0m \u001b[0;34m\u001b[0m\u001b[0m\n\u001b[1;32m      4\u001b[0m         f.write(\"{},{}\\n\".format(fips, \\\n\u001b[0;32m----> 5\u001b[0;31m             y_label_generator(fips, \"seriousness_label_cases\", group_date = 30)))\n\u001b[0m",
      "\u001b[0;32m<ipython-input-8-29dba5619e8c>\u001b[0m in \u001b[0;36my_label_generator\u001b[0;34m(fips, label_type, group_date)\u001b[0m\n\u001b[1;32m     98\u001b[0m \u001b[0;34m\u001b[0m\u001b[0m\n\u001b[1;32m     99\u001b[0m     \u001b[0;32melif\u001b[0m \u001b[0mlabel_type\u001b[0m \u001b[0;34m==\u001b[0m \u001b[0;34m\"seriousness_label_cases\"\u001b[0m\u001b[0;34m:\u001b[0m\u001b[0;34m\u001b[0m\u001b[0;34m\u001b[0m\u001b[0m\n\u001b[0;32m--> 100\u001b[0;31m         \u001b[0;32mif\u001b[0m \u001b[0mtarget_county\u001b[0m\u001b[0;34m[\u001b[0m\u001b[0;34m'tot_confirmed'\u001b[0m\u001b[0;34m]\u001b[0m\u001b[0;34m.\u001b[0m\u001b[0miloc\u001b[0m\u001b[0;34m[\u001b[0m\u001b[0;34m-\u001b[0m\u001b[0;36m1\u001b[0m\u001b[0;34m]\u001b[0m\u001b[0;34m/\u001b[0m\u001b[0mcounty_population\u001b[0m \u001b[0;34m>\u001b[0m \u001b[0musa_total_cases_ratio_11_16\u001b[0m\u001b[0;34m:\u001b[0m\u001b[0;34m\u001b[0m\u001b[0;34m\u001b[0m\u001b[0m\n\u001b[0m\u001b[1;32m    101\u001b[0m             \u001b[0;32mreturn\u001b[0m \u001b[0;34m[\u001b[0m\u001b[0;36m1\u001b[0m\u001b[0;34m]\u001b[0m\u001b[0;34m\u001b[0m\u001b[0;34m\u001b[0m\u001b[0m\n\u001b[1;32m    102\u001b[0m         \u001b[0;32melse\u001b[0m\u001b[0;34m:\u001b[0m\u001b[0;34m\u001b[0m\u001b[0;34m\u001b[0m\u001b[0m\n",
      "\u001b[0;31mTypeError\u001b[0m: unsupported operand type(s) for /: 'int' and 'NoneType'"
     ]
    }
   ],
   "source": [
    "\n"
   ]
  },
  {
   "cell_type": "code",
   "execution_count": 23,
   "metadata": {},
   "outputs": [],
   "source": [
    "# Generate label file\n",
    "fipslist = list(set(df['fips']))\n",
    "shared_fips = []\n",
    "for county in population:\n",
    "    fips = county['fields']['fips']\n",
    "    if fips in fipslist:\n",
    "        shared_fips.append(fips)\n",
    "\n",
    "with open(\"labels.csv\", \"w\") as f:\n",
    "    f.write(\"Fips,Label\\n\")\n",
    "    for fips in shared_fips:\n",
    "\n",
    "        f.write(\"{},{}\\n\".format(fips, \\\n",
    "            y_label_generator(fips, \"seriousness_label_cases\", group_date = 30)[0]))        "
   ]
  }
 ],
 "metadata": {
  "kernelspec": {
   "display_name": "Python 3",
   "language": "python",
   "name": "python3"
  },
  "language_info": {
   "codemirror_mode": {
    "name": "ipython",
    "version": 3
   },
   "file_extension": ".py",
   "mimetype": "text/x-python",
   "name": "python",
   "nbconvert_exporter": "python",
   "pygments_lexer": "ipython3",
   "version": "3.7.3"
  }
 },
 "nbformat": 4,
 "nbformat_minor": 4
}
