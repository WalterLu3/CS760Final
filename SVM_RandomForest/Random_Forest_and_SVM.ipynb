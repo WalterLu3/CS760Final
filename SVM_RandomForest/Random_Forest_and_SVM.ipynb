{
 "cells": [
  {
   "cell_type": "code",
   "execution_count": 17,
   "metadata": {},
   "outputs": [],
   "source": [
    "import pandas as pd\n",
    "import numpy as np\n",
    "import matplotlib.pyplot as plt\n",
    "from math import pi\n",
    "import csv\n",
    "from sklearn.ensemble import RandomForestRegressor\n",
    "from sklearn.metrics import mean_squared_error\n",
    "from sklearn.metrics import mean_absolute_error\n",
    "from sklearn.svm import SVR\n",
    "import copy"
   ]
  },
  {
   "cell_type": "code",
   "execution_count": 11,
   "metadata": {},
   "outputs": [],
   "source": [
    "header = None\n",
    "features = None\n",
    "with open('../feature_process/aligned_features.csv' ,'r')as f:\n",
    "    features = csv.reader(f)\n",
    "    features = list(features)\n",
    "    header = features[0]\n",
    "    features = features[1:]\n",
    "    "
   ]
  },
  {
   "cell_type": "code",
   "execution_count": 12,
   "metadata": {},
   "outputs": [],
   "source": [
    "def split_train_test(lower,upper,data): # fips code upper and lower bound for a state. ex. wisconsin 55000,56000\n",
    "    data = copy.deepcopy(data)\n",
    "    training = []\n",
    "    testing =[]\n",
    "    fips_train = []\n",
    "    fips_test = []\n",
    "    for row in data:\n",
    "        if lower<= int(row[0]) < upper:\n",
    "            testing.append(row[1:])\n",
    "            fips_test.append(row[0])\n",
    "        else:\n",
    "            training.append(row[1:])\n",
    "            fips_train.append(row[0])\n",
    "    for i in range(len(training)):\n",
    "        for j in range(len(training[0])):\n",
    "            training[i][j] = float(training[i][j])\n",
    "    for i in range(len(testing)):\n",
    "        for j in range(len(testing[0])):\n",
    "            testing[i][j] = float(testing[i][j])        \n",
    "    return training, testing,fips_train,fips_test"
   ]
  },
  {
   "cell_type": "code",
   "execution_count": 13,
   "metadata": {},
   "outputs": [],
   "source": [
    "train_x,test_x,fips_train,fips_test = split_train_test(55000,56000,features)"
   ]
  },
  {
   "cell_type": "markdown",
   "metadata": {},
   "source": [
    "# Continuous Problem (increase rate)"
   ]
  },
  {
   "cell_type": "markdown",
   "metadata": {},
   "source": [
    "##  k = 5  Cross Validation Error"
   ]
  },
  {
   "cell_type": "code",
   "execution_count": 91,
   "metadata": {},
   "outputs": [
    {
     "name": "stdout",
     "output_type": "stream",
     "text": [
      "MAPE for N = 1, deaths increase rates, random forest\n",
      "0.00039258050013288624\n",
      "MAPE for N = 1, deaths increase rates, SVR\n",
      "0.002806304550705679\n",
      "MAPE for N = 5, deaths increase rates, random forest\n",
      "0.00012156162799185823\n",
      "MAPE for N = 5, deaths increase rates, SVR\n",
      "0.0012325553659813322\n",
      "MAPE for N = 10, deaths increase rates, random forest\n",
      "7.115228389125938e-05\n",
      "MAPE for N = 10, deaths increase rates, SVR\n",
      "0.000728304645987609\n",
      "MAPE for N = 1, cases increase rates, random forest\n",
      "0.012664492404519685\n",
      "MAPE for N = 1, cases increase rates, SVR\n",
      "0.06209782592115588\n",
      "MAPE for N = 5, cases increase rates, random forest\n",
      "0.0036503566204986945\n",
      "MAPE for N = 5, cases increase rates, SVR\n",
      "0.0454246680474594\n",
      "MAPE for N = 10, cases increase rates, random forest\n",
      "0.0020570714046789225\n",
      "MAPE for N = 10, cases increase rates, SVR\n",
      "0.029007918521587205\n"
     ]
    }
   ],
   "source": [
    "labels = None\n",
    "k = 5\n",
    "file_name = '../label_process/labels2/{}_increase_{}'\n",
    "data_type = ['deaths','cases']\n",
    "interval_num = ['1','5','10']\n",
    "for d_type in data_type:\n",
    "    for i_num in interval_num:\n",
    "        with open(file_name.format(d_type,i_num),'r') as f:\n",
    "            labels = csv.reader(f)\n",
    "            labels = list(labels)\n",
    "        \n",
    "    \n",
    "        train_y,test_y,fips_train,fips_test = split_train_test(55000,56000,labels)\n",
    "        #  cross validation split train test k = 5\n",
    "        interval_length = int(len(train_x)/k)\n",
    "        tr_set = []\n",
    "        tr_labels = []\n",
    "        va_set = []\n",
    "        va_labels = []\n",
    "        total_mse = []\n",
    "        svm_mse = []\n",
    "        training_set = copy.deepcopy(train_x)\n",
    "        training_labels = copy.deepcopy(train_y)\n",
    "        for kv_idx in range(k):\n",
    "            va_set = training_set[interval_length * kv_idx:interval_length*(kv_idx+1)]\n",
    "            va_labels = training_labels[interval_length * kv_idx:interval_length*(kv_idx+1)]\n",
    "            tr_set = training_set[:interval_length * kv_idx] + training_set[interval_length*(kv_idx+1):]\n",
    "            tr_labels = training_labels[:interval_length * kv_idx] + training_labels[interval_length*(kv_idx+1):]\n",
    "            \n",
    "            va_label_df = pd.DataFrame(va_labels,dtype = float)\n",
    "            tr_label_df = pd.DataFrame(tr_labels,dtype = float)\n",
    "            \n",
    "            va_prediction = []\n",
    "            svr_va_prediction = []\n",
    "            va_answer = []\n",
    "            for time_zone in range(int(float(i_num))):\n",
    "                tr_y = list(tr_label_df.loc[:,time_zone])\n",
    "                va_y = list(va_label_df.loc[:,time_zone])\n",
    "                regr = RandomForestRegressor()\n",
    "                svr_regr = SVR()\n",
    "                regr.fit(tr_set, tr_y)\n",
    "                svr_regr.fit(tr_set, tr_y)\n",
    "                va_prediction = va_prediction + list(regr.predict(va_set))\n",
    "                svr_va_prediction = svr_va_prediction + list(svr_regr.predict(va_set))\n",
    "                va_answer += va_y\n",
    "        \n",
    "            total_mse.append(mean_absolute_error(va_answer,va_prediction))\n",
    "            svm_mse.append(mean_absolute_error(va_answer,svr_va_prediction))\n",
    "        print('MAPE for N = {}, {} increase rates, random forest'.format(i_num,d_type))\n",
    "        print(sum(total_mse)/len(total_mse))\n",
    "        print('MAPE for N = {}, {} increase rates, SVR'.format(i_num,d_type))\n",
    "        print(sum(svm_mse)/len(svm_mse))\n"
   ]
  },
  {
   "cell_type": "markdown",
   "metadata": {},
   "source": [
    "## testing error"
   ]
  },
  {
   "cell_type": "code",
   "execution_count": 18,
   "metadata": {},
   "outputs": [
    {
     "name": "stdout",
     "output_type": "stream",
     "text": [
      "MAPE for N = 1, deaths increase rates, random forest\n",
      "0.0002782352006245808\n",
      "MAPE for N = 1, deaths increase rates, SVR\n",
      "0.0030582337692961637\n",
      "MAPE for N = 5, deaths increase rates, random forest\n",
      "8.310205512667283e-05\n",
      "MAPE for N = 5, deaths increase rates, SVR\n",
      "0.0012672066744095131\n",
      "MAPE for N = 10, deaths increase rates, random forest\n",
      "4.6659028876153586e-05\n",
      "MAPE for N = 10, deaths increase rates, SVR\n",
      "0.0007445946470889617\n",
      "MAPE for N = 1, cases increase rates, random forest\n",
      "0.014728564849270542\n",
      "MAPE for N = 1, cases increase rates, SVR\n",
      "0.04480892217406902\n",
      "MAPE for N = 5, cases increase rates, random forest\n",
      "0.0038593331759570575\n",
      "MAPE for N = 5, cases increase rates, SVR\n",
      "0.04501633457449545\n",
      "MAPE for N = 10, cases increase rates, random forest\n",
      "0.0021357080800325145\n",
      "MAPE for N = 10, cases increase rates, SVR\n",
      "0.029492560625535333\n"
     ]
    }
   ],
   "source": [
    "labels = None\n",
    "k = 5\n",
    "file_name = '../label_process/labels2/{}_increase_{}'\n",
    "data_type = ['deaths','cases']\n",
    "interval_num = ['1','5','10']\n",
    "for d_type in data_type:\n",
    "    for i_num in interval_num:\n",
    "        with open(file_name.format(d_type,i_num),'r') as f:\n",
    "            labels = csv.reader(f)\n",
    "            labels = list(labels)\n",
    "        \n",
    "        train_y,test_y,fips_train,fips_test = split_train_test(55000,56000,labels)\n",
    "\n",
    "        tr_set = []\n",
    "        tr_labels = []\n",
    "        va_set = []\n",
    "        va_labels = []\n",
    "        total_mse = []\n",
    "        svm_mse = []\n",
    "        training_set = copy.deepcopy(train_x)\n",
    "        training_labels = copy.deepcopy(train_y)\n",
    "        tr_label_df = pd.DataFrame(train_y)\n",
    "        va_label_df = pd.DataFrame(test_y)\n",
    "        \n",
    "        va_prediction = []\n",
    "        svr_va_prediction = []\n",
    "        va_answer = []\n",
    "        for time_zone in range(int(float(i_num))):\n",
    "            tr_y = list(tr_label_df.loc[:,time_zone])\n",
    "            va_y = list(va_label_df.loc[:,time_zone])\n",
    "            regr = RandomForestRegressor()\n",
    "            svr_regr = SVR()\n",
    "            regr.fit(train_x, tr_y)\n",
    "            svr_regr.fit(train_x, tr_y)\n",
    "            va_prediction = va_prediction + list(regr.predict(test_x))\n",
    "            svr_va_prediction = svr_va_prediction + list(svr_regr.predict(test_x))\n",
    "            va_answer += va_y\n",
    "\n",
    "        total_mse.append(mean_absolute_error(va_answer,va_prediction))\n",
    "        svm_mse.append(mean_absolute_error(va_answer,svr_va_prediction))\n",
    "        print('MAPE for N = {}, {} increase rates, random forest'.format(i_num,d_type))\n",
    "        print(sum(total_mse)/len(total_mse))\n",
    "        print('MAPE for N = {}, {} increase rates, SVR'.format(i_num,d_type))\n",
    "        print(sum(svm_mse)/len(svm_mse))\n"
   ]
  },
  {
   "cell_type": "markdown",
   "metadata": {},
   "source": [
    "# Classification Problem"
   ]
  },
  {
   "cell_type": "code",
   "execution_count": null,
   "metadata": {},
   "outputs": [],
   "source": []
  }
 ],
 "metadata": {
  "kernelspec": {
   "display_name": "Python 3",
   "language": "python",
   "name": "python3"
  },
  "language_info": {
   "codemirror_mode": {
    "name": "ipython",
    "version": 3
   },
   "file_extension": ".py",
   "mimetype": "text/x-python",
   "name": "python",
   "nbconvert_exporter": "python",
   "pygments_lexer": "ipython3",
   "version": "3.8.3"
  }
 },
 "nbformat": 4,
 "nbformat_minor": 4
}
