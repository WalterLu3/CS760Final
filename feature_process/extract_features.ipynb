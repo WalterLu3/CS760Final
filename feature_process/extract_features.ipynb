{
 "cells": [
  {
   "cell_type": "code",
   "execution_count": 2,
   "metadata": {},
   "outputs": [],
   "source": [
    "import csv\n",
    "import numpy\n",
    "import pandas as pd\n",
    "from matplotlib import pyplot as plt"
   ]
  },
  {
   "cell_type": "code",
   "execution_count": 3,
   "metadata": {},
   "outputs": [],
   "source": [
    "# Reading with pandas didn't work, so doing this instead:\n",
    "#\n",
    "# IMPORTANT: the delimiter for the county csv data is ;\n",
    "def read_csv(path, delim):\n",
    "    with open(path) as f:\n",
    "        reader = csv.reader(f, delimiter=delim)\n",
    "        rows = list(reader)\n",
    "        header= rows[0]\n",
    "        data = rows[1:]\n",
    "        return header, data"
   ]
  },
  {
   "cell_type": "code",
   "execution_count": 1,
   "metadata": {},
   "outputs": [
    {
     "ename": "NameError",
     "evalue": "name 'read_csv' is not defined",
     "output_type": "error",
     "traceback": [
      "\u001b[0;31m---------------------------------------------------------------------------\u001b[0m",
      "\u001b[0;31mNameError\u001b[0m                                 Traceback (most recent call last)",
      "\u001b[0;32m<ipython-input-1-5a31fabf45f4>\u001b[0m in \u001b[0;36m<module>\u001b[0;34m\u001b[0m\n\u001b[0;32m----> 1\u001b[0;31m \u001b[0mheader\u001b[0m\u001b[0;34m,\u001b[0m \u001b[0mdata\u001b[0m \u001b[0;34m=\u001b[0m \u001b[0mread_csv\u001b[0m\u001b[0;34m(\u001b[0m\u001b[0;34m\"usa-2016-presidential-election-by-county.csv\"\u001b[0m\u001b[0;34m,\u001b[0m \u001b[0;34m';'\u001b[0m\u001b[0;34m)\u001b[0m\u001b[0;34m\u001b[0m\u001b[0;34m\u001b[0m\u001b[0m\n\u001b[0m\u001b[1;32m      2\u001b[0m \u001b[0;34m\u001b[0m\u001b[0m\n\u001b[1;32m      3\u001b[0m \u001b[0;31m# Which features we want to look at:\u001b[0m\u001b[0;34m\u001b[0m\u001b[0;34m\u001b[0m\u001b[0;34m\u001b[0m\u001b[0m\n\u001b[1;32m      4\u001b[0m feature_names = [\"County\", # In the format: Dane County, Wisconsin\n\u001b[1;32m      5\u001b[0m                  \u001b[0;34m\"Less Than High School Diploma\"\u001b[0m\u001b[0;34m,\u001b[0m\u001b[0;34m\u001b[0m\u001b[0;34m\u001b[0m\u001b[0m\n",
      "\u001b[0;31mNameError\u001b[0m: name 'read_csv' is not defined"
     ]
    }
   ],
   "source": [
    "path_to_csv = \"./usa-2016-presidential-election-by-county.csv\" # replace with your path\n",
    "header, data = read_csv(path_to_csv, ';') \n",
    "\n",
    "# Which features we want to look at:\n",
    "feature_names = [\"County\", # In the format: Dane County, Wisconsin\n",
    "                 \"Less Than High School Diploma\",\n",
    "                 \"At Least High School Diploma\",\n",
    "                 \"At Least Bachelors's Degree\",\n",
    "                 \"Graduate Degree\",\n",
    "                 \"School Enrollment\",\n",
    "                 \"Median Earnings 2010\",\n",
    "                 \"White (Not Latino) Population\",\n",
    "                 \"African American Population\",\n",
    "                 \"Native American Population\",\n",
    "                 \"Asian American Population\",\n",
    "                 \"Other Race or Races\",\n",
    "                 \"Latino Population\",\n",
    "                 \"Children Under 6 Living in Poverty\",\n",
    "                 \"Adults 65 and Older Living in Poverty\",\n",
    "                 \"Total Population\",\n",
    "                 \"Preschool.Enrollment.Ratio.enrolled.ages.3.and.4\",\n",
    "                 \"Poverty.Rate.below.federal.poverty.threshold\",\n",
    "                 \"Gini.Coefficient\",\n",
    "                 \"Child.Poverty.living.in.families.below.the.poverty.line\",\n",
    "                 \"Management.professional.and.related.occupations\",\n",
    "                 \"Service.occupations\",\n",
    "                 \"Sales.and.office.occupations\",\n",
    "                 \"Farming.fishing.and.forestry.occupations\",\n",
    "                 \"Construction.extraction.maintenance.and.repair.occupations\",\n",
    "                 \"Production.transportation.and.material.moving.occupations\",\n",
    "                 \"Median Age\",\n",
    "                 \"lon\",\n",
    "                 \"lat\",\n",
    "                 \"Adult.obesity\",\n",
    "                 \"Diabetes\",\n",
    "                 \"Uninsured\",\n",
    "                 \"Unemployment\"]\n",
    "\n",
    "# Extract relevant features from csv\n",
    "with open(\"features.csv\", \"w\") as f:\n",
    "    f.write(';'.join(feature_names))\n",
    "    f.write('\\n')\n",
    "    \n",
    "    for row in data:\n",
    "        example = []\n",
    "        missing = False\n",
    "        for feature in feature_names:\n",
    "            \n",
    "            # Skip rows with missing data\n",
    "            if row[header.index(feature)] == '':\n",
    "                missing = True\n",
    "                break\n",
    "            else:\n",
    "                example.append(row[header.index(feature)])\n",
    "        if missing:\n",
    "            continue\n",
    "        else:\n",
    "            f.write(';'.join(example))\n",
    "            f.write('\\n')\n",
    "\n",
    "\n",
    "        \n",
    "    \n",
    "    "
   ]
  },
  {
   "cell_type": "code",
   "execution_count": null,
   "metadata": {},
   "outputs": [],
   "source": []
  }
 ],
 "metadata": {
  "kernelspec": {
   "display_name": "Python 3",
   "language": "python",
   "name": "python3"
  },
  "language_info": {
   "codemirror_mode": {
    "name": "ipython",
    "version": 3
   },
   "file_extension": ".py",
   "mimetype": "text/x-python",
   "name": "python",
   "nbconvert_exporter": "python",
   "pygments_lexer": "ipython3",
   "version": "3.7.3"
  }
 },
 "nbformat": 4,
 "nbformat_minor": 2
}
